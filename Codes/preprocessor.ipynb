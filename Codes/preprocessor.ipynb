{
 "cells": [
  {
   "cell_type": "code",
   "execution_count": 21,
   "id": "d7dc69c4",
   "metadata": {},
   "outputs": [],
   "source": [
    "import numpy as np\n",
    "import os\n",
    "import tensorflow as tf\n",
    "from tensorflow.keras.optimizers import Adam\n",
    "from keras.layers import Dense, Dropout, Flatten, Input\n",
    "from keras.layers import *\n",
    "from keras.models import Sequential, Model\n",
    "from tensorflow.keras import mixed_precision\n",
    "mixed_precision.set_global_policy('mixed_float16')\n",
    "import librosa\n",
    "sr = 16000\n",
    "batch_size = 32\n",
    "max_size = 79872\n",
    "import matplotlib.pyplot as plt\n",
    "import soundfile as sf"
   ]
  },
  {
   "cell_type": "code",
   "execution_count": 25,
   "id": "6b863ff0",
   "metadata": {
    "scrolled": true
   },
   "outputs": [
    {
     "name": "stdout",
     "output_type": "stream",
     "text": [
      "ffmpeg -i ./noises/Construction_arafat_1h30m.m4a -f segment -segment_time 5 -c copy \"./splits/Construction/Construction_arafat_1h30m%03d\".m4a\n",
      "ffmpeg -i ./noises/Construction_arafat_25m.m4a -f segment -segment_time 5 -c copy \"./splits/Construction/Construction_arafat_25m%03d\".m4a\n",
      "ffmpeg -i ./noises/Construction_arafat_2h2min.m4a -f segment -segment_time 5 -c copy \"./splits/Construction/Construction_arafat_2h2min%03d\".m4a\n",
      "ffmpeg -i ./noises/Construction_arafat_48m.m4a -f segment -segment_time 5 -c copy \"./splits/Construction/Construction_arafat_48m%03d\".m4a\n",
      "ffmpeg -i ./noises/Crowd_1_arafat_3h2min.m4a -f segment -segment_time 5 -c copy \"./splits/Crowd/Crowd_1_arafat_3h2min%03d\".m4a\n",
      "ffmpeg -i ./noises/Crowd_2_arafat_2h15m.m4a -f segment -segment_time 5 -c copy \"./splits/Crowd/Crowd_2_arafat_2h15m%03d\".m4a\n",
      "ffmpeg -i ./noises/Traffic_15062023_Rhythm.mp3 -f segment -segment_time 5 -c copy \"./splits/Traffic/Traffic_15062023_Rhythm%03d\".mp3\n",
      "ffmpeg -i ./noises/Traffic_Noise.mp3 -f segment -segment_time 5 -c copy \"./splits/Traffic/Traffic_Noise%03d\".mp3\n"
     ]
    }
   ],
   "source": [
    "files = os.listdir('./noises')\n",
    "for file in files:\n",
    "    noise_class = file.split(\"_\")[0]\n",
    "    if os.path.exists('./splits/'+noise_class) is False:\n",
    "        os.makedirs('./splits/'+noise_class)\n",
    "    \n",
    "    extension = \".\"+file.split(\".\")[-1]\n",
    "    segment =  \"./splits/\"+noise_class+'/'+file.split(extension)[0]\n",
    "    command = 'ffmpeg -i ./noises/'+file+' -f segment -segment_time 5 -c copy \"'+segment+'%03d\"'+extension\n",
    "#     print(command)\n",
    "    print(command)\n",
    "    os.system(command)"
   ]
  },
  {
   "cell_type": "code",
   "execution_count": 27,
   "id": "c9630f80",
   "metadata": {},
   "outputs": [],
   "source": [
    "n_fft = 800\n",
    "hop_length = 200\n",
    "sr = 16000\n",
    "\n",
    "def stft_loader(loaded):\n",
    "    stft = librosa.stft(loaded, n_fft=n_fft, hop_length=hop_length)\n",
    "    stft = np.float32(np.real(stft))\n",
    "    return stft\n",
    "\n",
    "def mel_loader(loaded):\n",
    "    mel = librosa.feature.melspectrogram(y=loaded, n_fft=n_fft, hop_length=hop_length, sr=sr)\n",
    "    mel = np.float32(np.real(mel))\n",
    "    return mel\n",
    "\n",
    "def mfcc_loader(loaded):\n",
    "    mfcc = librosa.feature.mfcc(y=loaded, n_fft=n_fft, hop_length=hop_length, sr=sr, n_mfcc=128)\n",
    "    mfcc = np.float32(np.real(mfcc))\n",
    "    return mfcc"
   ]
  },
  {
   "cell_type": "code",
   "execution_count": 29,
   "id": "30c7a200",
   "metadata": {},
   "outputs": [],
   "source": [
    "def padarray(A, size):\n",
    "    t = size - len(A)\n",
    "    return np.pad(A, pad_width=(0, t), mode='constant')"
   ]
  },
  {
   "cell_type": "code",
   "execution_count": 31,
   "id": "37c8b0ea",
   "metadata": {
    "scrolled": false
   },
   "outputs": [
    {
     "name": "stderr",
     "output_type": "stream",
     "text": [
      "C:\\Users\\muaz\\AppData\\Local\\Temp\\ipykernel_13192\\1826686184.py:16: UserWarning: PySoundFile failed. Trying audioread instead.\n",
      "  loaded, sr = librosa.load(path, sr=16000)\n"
     ]
    }
   ],
   "source": [
    "X = []\n",
    "y = []\n",
    "# os.makedirs('./stft')\n",
    "# os.makedirs('./mel')\n",
    "os.makedirs('./mfcc')\n",
    "for i, td in enumerate(os.listdir('./splits')):\n",
    "    label = i\n",
    "    files = os.listdir('./splits/'+td)\n",
    "    for k in range(len(files)):\n",
    "#         mel_dir = './mel/'+td +'/'\n",
    "#         stft_dir = './stft/'+td +'/'\n",
    "        mfcc_dir = './mfcc/'+td +'/'\n",
    "        \n",
    "        path = './splits/'+td +'/'+ files[k]\n",
    "        \n",
    "        loaded, sr = librosa.load(path, sr=16000)\n",
    "        if loaded.shape[0] < max_size:\n",
    "            loaded = padarray(loaded, max_size)\n",
    "        loaded = loaded[0:max_size]\n",
    "        \n",
    "#         stft = stft_loader(loaded)\n",
    "#         mel = mel_loader(loaded)\n",
    "        mfcc = mfcc_loader(loaded)\n",
    "        \n",
    "#         stft = librosa.util.normalize(stft)\n",
    "#         mel = librosa.util.normalize(mel)\n",
    "        mfcc = librosa.util.normalize(mfcc)\n",
    "        \n",
    "    \n",
    "        \n",
    "#         if os.path.exists(stft_dir) is False:\n",
    "#             os.makedirs(stft_dir)\n",
    "            \n",
    "#         if os.path.exists(mel_dir) is False:\n",
    "#             os.makedirs(mel_dir)\n",
    "                \n",
    "        if os.path.exists(mfcc_dir) is False:\n",
    "            os.makedirs(mfcc_dir)\n",
    "            \n",
    "#         if stft.shape[0] == 401 and stft.shape[1] == 400:\n",
    "#             np.save(stft_dir+files[k], stft)\n",
    "            \n",
    "#         if mel.shape[0] == 128 and mel.shape[1] == 400:\n",
    "#             np.save(mel_dir+files[k], mel)\n",
    "            \n",
    "        if mfcc.shape[0] == 128 and mfcc.shape[1] == 400:\n",
    "            np.save(mfcc_dir+files[k], mfcc) \n",
    "            \n",
    "        else:\n",
    "            os.remove(path)\n",
    "            print(\"Deleting (Less than 5 seconds audio file): \", path)"
   ]
  }
 ],
 "metadata": {
  "kernelspec": {
   "display_name": "Python 3 (ipykernel)",
   "language": "python",
   "name": "python3"
  },
  "language_info": {
   "codemirror_mode": {
    "name": "ipython",
    "version": 3
   },
   "file_extension": ".py",
   "mimetype": "text/x-python",
   "name": "python",
   "nbconvert_exporter": "python",
   "pygments_lexer": "ipython3",
   "version": "3.9.17"
  }
 },
 "nbformat": 4,
 "nbformat_minor": 5
}
